{
 "cells": [
  {
   "cell_type": "code",
   "execution_count": 41,
   "outputs": [
    {
     "name": "stdout",
     "output_type": "stream",
     "text": [
      "Requirement already satisfied: inflect in /Users/andres/opt/anaconda3/lib/python3.9/site-packages (6.0.0)\r\n",
      "Requirement already satisfied: pydantic in /Users/andres/opt/anaconda3/lib/python3.9/site-packages (from inflect) (1.9.2)\r\n",
      "Requirement already satisfied: typing-extensions>=3.7.4.3 in /Users/andres/opt/anaconda3/lib/python3.9/site-packages (from pydantic->inflect) (4.1.1)\r\n",
      "Requirement already satisfied: pandas-profiling in /Users/andres/opt/anaconda3/lib/python3.9/site-packages (3.4.0)\r\n",
      "Requirement already satisfied: htmlmin==0.1.12 in /Users/andres/opt/anaconda3/lib/python3.9/site-packages (from pandas-profiling) (0.1.12)\r\n",
      "Requirement already satisfied: multimethod<1.10,>=1.4 in /Users/andres/opt/anaconda3/lib/python3.9/site-packages (from pandas-profiling) (1.8)\r\n",
      "Requirement already satisfied: jinja2<3.2,>=2.11.1 in /Users/andres/opt/anaconda3/lib/python3.9/site-packages (from pandas-profiling) (2.11.3)\r\n",
      "Requirement already satisfied: statsmodels<0.14,>=0.13.2 in /Users/andres/opt/anaconda3/lib/python3.9/site-packages (from pandas-profiling) (0.13.2)\r\n",
      "Requirement already satisfied: visions[type_image_path]==0.7.5 in /Users/andres/opt/anaconda3/lib/python3.9/site-packages (from pandas-profiling) (0.7.5)\r\n",
      "Requirement already satisfied: numpy<1.24,>=1.16.0 in /Users/andres/opt/anaconda3/lib/python3.9/site-packages (from pandas-profiling) (1.21.5)\r\n",
      "Requirement already satisfied: pydantic<1.11,>=1.8.1 in /Users/andres/opt/anaconda3/lib/python3.9/site-packages (from pandas-profiling) (1.9.2)\r\n",
      "Requirement already satisfied: seaborn<0.13,>=0.10.1 in /Users/andres/opt/anaconda3/lib/python3.9/site-packages (from pandas-profiling) (0.11.2)\r\n",
      "Requirement already satisfied: requests<2.29,>=2.24.0 in /Users/andres/opt/anaconda3/lib/python3.9/site-packages (from pandas-profiling) (2.27.1)\r\n",
      "Requirement already satisfied: phik<0.13,>=0.11.1 in /Users/andres/opt/anaconda3/lib/python3.9/site-packages (from pandas-profiling) (0.12.2)\r\n",
      "Requirement already satisfied: pandas!=1.4.0,<1.6,>1.1 in /Users/andres/opt/anaconda3/lib/python3.9/site-packages (from pandas-profiling) (1.4.2)\r\n",
      "Requirement already satisfied: PyYAML<6.1,>=5.0.0 in /Users/andres/opt/anaconda3/lib/python3.9/site-packages (from pandas-profiling) (6.0)\r\n",
      "Requirement already satisfied: matplotlib<3.6,>=3.2 in /Users/andres/opt/anaconda3/lib/python3.9/site-packages (from pandas-profiling) (3.5.1)\r\n",
      "Requirement already satisfied: scipy<1.10,>=1.4.1 in /Users/andres/opt/anaconda3/lib/python3.9/site-packages (from pandas-profiling) (1.7.3)\r\n",
      "Requirement already satisfied: missingno<0.6,>=0.4.2 in /Users/andres/opt/anaconda3/lib/python3.9/site-packages (from pandas-profiling) (0.5.1)\r\n",
      "Requirement already satisfied: tqdm<4.65,>=4.48.2 in /Users/andres/opt/anaconda3/lib/python3.9/site-packages (from pandas-profiling) (4.64.0)\r\n",
      "Requirement already satisfied: attrs>=19.3.0 in /Users/andres/opt/anaconda3/lib/python3.9/site-packages (from visions[type_image_path]==0.7.5->pandas-profiling) (21.4.0)\r\n",
      "Requirement already satisfied: tangled-up-in-unicode>=0.0.4 in /Users/andres/opt/anaconda3/lib/python3.9/site-packages (from visions[type_image_path]==0.7.5->pandas-profiling) (0.2.0)\r\n",
      "Requirement already satisfied: networkx>=2.4 in /Users/andres/opt/anaconda3/lib/python3.9/site-packages (from visions[type_image_path]==0.7.5->pandas-profiling) (2.7.1)\r\n",
      "Requirement already satisfied: Pillow in /Users/andres/opt/anaconda3/lib/python3.9/site-packages (from visions[type_image_path]==0.7.5->pandas-profiling) (9.0.1)\r\n",
      "Requirement already satisfied: imagehash in /Users/andres/opt/anaconda3/lib/python3.9/site-packages (from visions[type_image_path]==0.7.5->pandas-profiling) (4.3.0)\r\n",
      "Requirement already satisfied: MarkupSafe>=0.23 in /Users/andres/opt/anaconda3/lib/python3.9/site-packages (from jinja2<3.2,>=2.11.1->pandas-profiling) (2.0.1)\r\n",
      "Requirement already satisfied: cycler>=0.10 in /Users/andres/opt/anaconda3/lib/python3.9/site-packages (from matplotlib<3.6,>=3.2->pandas-profiling) (0.11.0)\r\n",
      "Requirement already satisfied: pyparsing>=2.2.1 in /Users/andres/opt/anaconda3/lib/python3.9/site-packages (from matplotlib<3.6,>=3.2->pandas-profiling) (3.0.4)\r\n",
      "Requirement already satisfied: fonttools>=4.22.0 in /Users/andres/opt/anaconda3/lib/python3.9/site-packages (from matplotlib<3.6,>=3.2->pandas-profiling) (4.25.0)\r\n",
      "Requirement already satisfied: packaging>=20.0 in /Users/andres/opt/anaconda3/lib/python3.9/site-packages (from matplotlib<3.6,>=3.2->pandas-profiling) (21.3)\r\n",
      "Requirement already satisfied: python-dateutil>=2.7 in /Users/andres/opt/anaconda3/lib/python3.9/site-packages (from matplotlib<3.6,>=3.2->pandas-profiling) (2.8.2)\r\n",
      "Requirement already satisfied: kiwisolver>=1.0.1 in /Users/andres/opt/anaconda3/lib/python3.9/site-packages (from matplotlib<3.6,>=3.2->pandas-profiling) (1.3.2)\r\n",
      "Requirement already satisfied: pytz>=2020.1 in /Users/andres/opt/anaconda3/lib/python3.9/site-packages (from pandas!=1.4.0,<1.6,>1.1->pandas-profiling) (2021.3)\r\n",
      "Requirement already satisfied: joblib>=0.14.1 in /Users/andres/opt/anaconda3/lib/python3.9/site-packages (from phik<0.13,>=0.11.1->pandas-profiling) (1.2.0)\r\n",
      "Requirement already satisfied: typing-extensions>=3.7.4.3 in /Users/andres/opt/anaconda3/lib/python3.9/site-packages (from pydantic<1.11,>=1.8.1->pandas-profiling) (4.1.1)\r\n",
      "Requirement already satisfied: six>=1.5 in /Users/andres/opt/anaconda3/lib/python3.9/site-packages (from python-dateutil>=2.7->matplotlib<3.6,>=3.2->pandas-profiling) (1.16.0)\r\n",
      "Requirement already satisfied: urllib3<1.27,>=1.21.1 in /Users/andres/opt/anaconda3/lib/python3.9/site-packages (from requests<2.29,>=2.24.0->pandas-profiling) (1.26.9)\r\n",
      "Requirement already satisfied: idna<4,>=2.5 in /Users/andres/opt/anaconda3/lib/python3.9/site-packages (from requests<2.29,>=2.24.0->pandas-profiling) (3.3)\r\n",
      "Requirement already satisfied: charset-normalizer~=2.0.0 in /Users/andres/opt/anaconda3/lib/python3.9/site-packages (from requests<2.29,>=2.24.0->pandas-profiling) (2.0.4)\r\n",
      "Requirement already satisfied: certifi>=2017.4.17 in /Users/andres/opt/anaconda3/lib/python3.9/site-packages (from requests<2.29,>=2.24.0->pandas-profiling) (2021.10.8)\r\n",
      "Requirement already satisfied: patsy>=0.5.2 in /Users/andres/opt/anaconda3/lib/python3.9/site-packages (from statsmodels<0.14,>=0.13.2->pandas-profiling) (0.5.2)\r\n",
      "Requirement already satisfied: PyWavelets in /Users/andres/opt/anaconda3/lib/python3.9/site-packages (from imagehash->visions[type_image_path]==0.7.5->pandas-profiling) (1.3.0)\r\n"
     ]
    }
   ],
   "source": [
    "# librería para manejar las flexiones gramaticales en el idioma inglés.\n",
    "!pip install inflect\n",
    "!pip install --disable-pip-version-check --progress-bar off -q https://github.com/pandas-profiling/pandas-profiling/archive/master.zip\n",
    "!pip install -U pandas-profiling"
   ],
   "metadata": {
    "collapsed": false
   }
  },
  {
   "cell_type": "code",
   "execution_count": 42,
   "outputs": [],
   "source": [
    "seed = 161\n",
    "\n",
    "import pandas as pd\n",
    "import warnings; warnings.simplefilter('ignore')\n",
    "import nltk\n",
    "\n",
    "from nltk.corpus import stopwords\n",
    "\n",
    "\n",
    "from sklearn.model_selection import train_test_split\n",
    "from sklearn.feature_extraction.text import CountVectorizer, TfidfVectorizer\n",
    "\n",
    "\n",
    "from sklearn.pipeline import Pipeline\n",
    "\n",
    "from joblib import dump, load\n"
   ],
   "metadata": {
    "collapsed": false
   }
  },
  {
   "cell_type": "code",
   "execution_count": 43,
   "outputs": [
    {
     "name": "stderr",
     "output_type": "stream",
     "text": [
      "[nltk_data] Downloading package punkt to /Users/andres/nltk_data...\n",
      "[nltk_data]   Package punkt is already up-to-date!\n",
      "[nltk_data] Downloading package stopwords to\n",
      "[nltk_data]     /Users/andres/nltk_data...\n",
      "[nltk_data]   Package stopwords is already up-to-date!\n",
      "[nltk_data] Downloading package wordnet to /Users/andres/nltk_data...\n",
      "[nltk_data]   Package wordnet is already up-to-date!\n"
     ]
    }
   ],
   "source": [
    "# Descargando las stopwords\n",
    "nltk.download('punkt')\n",
    "nltk.download('stopwords')\n",
    "nltk.download('wordnet')\n",
    "stop_words = set(stopwords.words('english'))"
   ],
   "metadata": {
    "collapsed": false
   }
  },
  {
   "cell_type": "code",
   "execution_count": 44,
   "outputs": [],
   "source": [
    "from sklearn.utils import resample\n",
    "\n"
   ],
   "metadata": {
    "collapsed": false
   }
  },
  {
   "cell_type": "code",
   "execution_count": 45,
   "id": "95f6aa7a-e6dc-41be-8fc6-e71997badf31",
   "metadata": {},
   "outputs": [],
   "source": [
    "# Se cargan los datos. \n",
    "\n",
    "file_name = 'reviews_train_val.csv'\n",
    "reviews_df = pd.read_csv('data/reviews_train_val.csv', sep = ',')\n",
    "\n",
    "neg_class_resampled = resample(\n",
    "    reviews_df, replace=False, n_samples=5000,\n",
    "    random_state=1234,\n",
    ")\n",
    "reviews_df = neg_class_resampled.reset_index(drop=True)"
   ]
  },
  {
   "cell_type": "code",
   "execution_count": 45,
   "outputs": [],
   "source": [],
   "metadata": {
    "collapsed": false
   }
  },
  {
   "cell_type": "code",
   "execution_count": 46,
   "outputs": [
    {
     "data": {
      "text/plain": "Summarize dataset:   0%|          | 0/5 [00:00<?, ?it/s]",
      "application/vnd.jupyter.widget-view+json": {
       "version_major": 2,
       "version_minor": 0,
       "model_id": "1b5fa89aabec44919aaf475944a8167a"
      }
     },
     "metadata": {},
     "output_type": "display_data"
    },
    {
     "data": {
      "text/plain": "Render JSON:   0%|          | 0/1 [00:00<?, ?it/s]",
      "application/vnd.jupyter.widget-view+json": {
       "version_major": 2,
       "version_minor": 0,
       "model_id": "749e2dd1d4f844fb9d115ad8f7b66f01"
      }
     },
     "metadata": {},
     "output_type": "display_data"
    }
   ],
   "source": [
    "import json\n",
    "from pandas_profiling import ProfileReport\n",
    "ProfileReport(reviews_df, title='Profiling Report', explorative=True)\n",
    "\n",
    "profile = reviews_df.profile_report()\n",
    "p = profile.to_json()\n",
    "y = json.loads(p)\n",
    "\n",
    "stars = reviews_df.describe()\n",
    "\n",
    "\n",
    "\n",
    "my_profile = {\"count\": y['table']['n'], \"n_var\" : y['table'][\"n_var\"],\n",
    "              \"n_cells_missing\": y['table'][\"n_cells_missing\"],\n",
    "\"n_vars_with_missing\": y['table'][\"n_vars_with_missing\"],\n",
    "\"n_vars_all_missing\": y['table'][\"n_vars_all_missing\"],\n",
    "\"p_cells_missing\": y['table'][\"p_cells_missing\"],\n",
    "\"n_duplicates\": y['table'][\"n_duplicates\"],\n",
    "\"p_duplicates\": y['table'][\"p_duplicates\"],\n",
    "\n",
    "              \"stars\": json.loads(stars.to_json())[\"stars\"]\n",
    "              }\n",
    "\n",
    "\n",
    "with open(\"assets/profile.json\", \"w\") as write_file:\n",
    "    json.dump(my_profile, write_file)\n"
   ],
   "metadata": {
    "collapsed": false
   }
  },
  {
   "cell_type": "code",
   "execution_count": 47,
   "outputs": [
    {
     "data": {
      "text/plain": "(5000, 2)"
     },
     "execution_count": 47,
     "metadata": {},
     "output_type": "execute_result"
    }
   ],
   "source": [
    "# Se filtran los que no tienen etiqueta\n",
    "reviews_labeled_df = reviews_df.loc[reviews_df['stars'].notnull()]\n",
    "reviews_labeled_df.shape"
   ],
   "metadata": {
    "collapsed": false
   }
  },
  {
   "cell_type": "code",
   "execution_count": 48,
   "outputs": [
    {
     "data": {
      "text/plain": "             stars\ncount  5000.000000\nmean      3.732400\nstd       1.476762\nmin       1.000000\n25%       3.000000\n50%       4.000000\n75%       5.000000\nmax       5.000000",
      "text/html": "<div>\n<style scoped>\n    .dataframe tbody tr th:only-of-type {\n        vertical-align: middle;\n    }\n\n    .dataframe tbody tr th {\n        vertical-align: top;\n    }\n\n    .dataframe thead th {\n        text-align: right;\n    }\n</style>\n<table border=\"1\" class=\"dataframe\">\n  <thead>\n    <tr style=\"text-align: right;\">\n      <th></th>\n      <th>stars</th>\n    </tr>\n  </thead>\n  <tbody>\n    <tr>\n      <th>count</th>\n      <td>5000.000000</td>\n    </tr>\n    <tr>\n      <th>mean</th>\n      <td>3.732400</td>\n    </tr>\n    <tr>\n      <th>std</th>\n      <td>1.476762</td>\n    </tr>\n    <tr>\n      <th>min</th>\n      <td>1.000000</td>\n    </tr>\n    <tr>\n      <th>25%</th>\n      <td>3.000000</td>\n    </tr>\n    <tr>\n      <th>50%</th>\n      <td>4.000000</td>\n    </tr>\n    <tr>\n      <th>75%</th>\n      <td>5.000000</td>\n    </tr>\n    <tr>\n      <th>max</th>\n      <td>5.000000</td>\n    </tr>\n  </tbody>\n</table>\n</div>"
     },
     "execution_count": 48,
     "metadata": {},
     "output_type": "execute_result"
    }
   ],
   "source": [
    "reviews_labeled_df.describe()"
   ],
   "metadata": {
    "collapsed": false
   }
  },
  {
   "cell_type": "code",
   "execution_count": 49,
   "outputs": [
    {
     "data": {
      "text/plain": "(4000,)"
     },
     "execution_count": 49,
     "metadata": {},
     "output_type": "execute_result"
    }
   ],
   "source": [
    "\n",
    "\n",
    "X_train, X_test, y_train, y_test = train_test_split(reviews_labeled_df['text'], reviews_labeled_df['stars'], test_size = 0.2, stratify = reviews_labeled_df['stars'], random_state = 1)\n",
    "\n",
    "X_train.shape"
   ],
   "metadata": {
    "collapsed": false
   }
  },
  {
   "cell_type": "code",
   "execution_count": 50,
   "outputs": [],
   "source": [
    "from Processor.TextProcessor import TextProcesser\n",
    "\n",
    "\n",
    "estimators = [\n",
    "    (\"processer\", TextProcesser()),\n",
    "    (\"vect\", CountVectorizer(max_df = 0.5, min_df = 0.001)),\n",
    "]\n",
    "processing_pipeline = Pipeline(estimators)\n"
   ],
   "metadata": {
    "collapsed": false
   }
  },
  {
   "cell_type": "code",
   "execution_count": 51,
   "outputs": [],
   "source": [
    "X_train = processing_pipeline.fit_transform(X_train).toarray()\n",
    "X_test = processing_pipeline.transform(X_test).toarray()"
   ],
   "metadata": {
    "collapsed": false
   }
  },
  {
   "cell_type": "code",
   "execution_count": 52,
   "outputs": [
    {
     "data": {
      "text/plain": "['assets/pipeline.joblib']"
     },
     "execution_count": 52,
     "metadata": {},
     "output_type": "execute_result"
    }
   ],
   "source": [
    "dump(processing_pipeline, \"assets/pipeline.joblib\")"
   ],
   "metadata": {
    "collapsed": false
   }
  },
  {
   "cell_type": "code",
   "execution_count": 53,
   "outputs": [],
   "source": [
    "from sklearn.linear_model import LogisticRegression\n",
    "\n",
    "best_model = LogisticRegression(C=50,\n",
    " multi_class = 'auto',\n",
    " penalty= 'l2',\n",
    " solver= 'newton-cg',\n",
    " )\n"
   ],
   "metadata": {
    "collapsed": false
   }
  },
  {
   "cell_type": "code",
   "execution_count": 54,
   "outputs": [
    {
     "data": {
      "text/plain": "LogisticRegression(C=50, solver='newton-cg')"
     },
     "execution_count": 54,
     "metadata": {},
     "output_type": "execute_result"
    }
   ],
   "source": [
    "best_model.fit(X_train, y_train)"
   ],
   "metadata": {
    "collapsed": false
   }
  },
  {
   "cell_type": "code",
   "execution_count": 55,
   "id": "46cb556f-a5c0-4ba3-9b1b-0e46dd08e1e1",
   "metadata": {},
   "outputs": [
    {
     "data": {
      "text/plain": "['assets/model.joblib']"
     },
     "execution_count": 55,
     "metadata": {},
     "output_type": "execute_result"
    }
   ],
   "source": [
    "\n",
    "dump(best_model, \"assets/model.joblib\")"
   ]
  },
  {
   "cell_type": "code",
   "execution_count": 56,
   "outputs": [],
   "source": [
    "preds_train = best_model.predict(X_train)\n",
    "preds_test = best_model.predict(X_test)"
   ],
   "metadata": {
    "collapsed": false
   }
  },
  {
   "cell_type": "code",
   "execution_count": 57,
   "outputs": [],
   "source": [
    "from sklearn.metrics import precision_recall_fscore_support\n",
    "\n",
    "\n",
    "def pandas_classification_report(y_true, y_pred):\n",
    "    metrics_summary = precision_recall_fscore_support(\n",
    "            y_true=y_true,\n",
    "            y_pred=y_pred)\n",
    "\n",
    "    avg = list(precision_recall_fscore_support(\n",
    "            y_true=y_true,\n",
    "            y_pred=y_pred,\n",
    "            average='weighted'))\n",
    "\n",
    "    metrics_sum_index = ['precision', 'recall', 'f1-score', 'support']\n",
    "    class_report_df = pd.DataFrame(\n",
    "        list(metrics_summary),\n",
    "        index=metrics_sum_index)\n",
    "\n",
    "    support = class_report_df.loc['support']\n",
    "    total = support.sum()\n",
    "    avg[-1] = total\n",
    "\n",
    "    class_report_df['avg'] = avg\n",
    "\n",
    "    return class_report_df.T\n",
    "\n",
    "df_class_report = pandas_classification_report(y_test, preds_test)\n",
    "\n",
    "df_class_report.to_json(\"assets/report.json\")\n"
   ],
   "metadata": {
    "collapsed": false
   }
  },
  {
   "cell_type": "code",
   "execution_count": 58,
   "outputs": [],
   "source": [
    "vocabulary = processing_pipeline.steps[1][1].vocabulary_\n",
    "\n",
    "coef = pd.DataFrame(best_model.coef_)\n",
    "coef.columns = vocabulary\n",
    "\n",
    "coef.to_json(\"assets/coefficients.json\")"
   ],
   "metadata": {
    "collapsed": false
   }
  },
  {
   "cell_type": "code",
   "execution_count": 59,
   "outputs": [
    {
     "data": {
      "text/plain": "        hid       gem     heard      plac  facebook     going       are  \\\n0  0.337641  0.453329  0.238561 -0.105164  0.197473  0.056879  0.108483   \n1  0.026949  0.047351 -0.054801 -0.002226 -0.196332 -0.049161 -0.079470   \n2 -0.859797 -0.379957 -0.398707 -0.001451 -0.304075 -0.000070 -0.347200   \n3  0.335877 -0.825875 -0.588897  0.312287  0.547068  0.028245  0.075980   \n4  0.159331  0.705152  0.803844 -0.203445 -0.244134 -0.035894  0.242208   \n\n      decid       try      back  ...    avenue  recovery     youth     silly  \\\n0  0.297773  0.014646  0.621482  ... -0.001439  0.728328 -0.246797 -0.381455   \n1 -0.080023  0.233351  0.154089  ... -0.000466 -0.195129 -0.220451 -0.482146   \n2 -0.244317  0.243933 -0.476007  ... -0.044347 -0.128989 -0.533240  0.991808   \n3 -0.139477 -0.351679 -0.312590  ...  0.012401 -0.077947 -0.315446 -0.360643   \n4  0.166043 -0.140252  0.013026  ...  0.033850 -0.326264  1.315935  0.232437   \n\n   raspberry  diagnose   quieter  smallest   removal  continental  \n0   1.291041 -0.015679 -0.015679  0.164571 -0.026744    -0.026744  \n1  -0.176185 -0.047204 -0.047204 -0.107060 -0.025493    -0.025493  \n2  -0.140551  0.062860  0.062860 -0.027768 -0.000100    -0.000100  \n3  -0.250027 -0.269668 -0.269668  0.512324  0.045655     0.045655  \n4  -0.724279  0.269692  0.269692 -0.542067  0.006682     0.006682  \n\n[5 rows x 5767 columns]",
      "text/html": "<div>\n<style scoped>\n    .dataframe tbody tr th:only-of-type {\n        vertical-align: middle;\n    }\n\n    .dataframe tbody tr th {\n        vertical-align: top;\n    }\n\n    .dataframe thead th {\n        text-align: right;\n    }\n</style>\n<table border=\"1\" class=\"dataframe\">\n  <thead>\n    <tr style=\"text-align: right;\">\n      <th></th>\n      <th>hid</th>\n      <th>gem</th>\n      <th>heard</th>\n      <th>plac</th>\n      <th>facebook</th>\n      <th>going</th>\n      <th>are</th>\n      <th>decid</th>\n      <th>try</th>\n      <th>back</th>\n      <th>...</th>\n      <th>avenue</th>\n      <th>recovery</th>\n      <th>youth</th>\n      <th>silly</th>\n      <th>raspberry</th>\n      <th>diagnose</th>\n      <th>quieter</th>\n      <th>smallest</th>\n      <th>removal</th>\n      <th>continental</th>\n    </tr>\n  </thead>\n  <tbody>\n    <tr>\n      <th>0</th>\n      <td>0.337641</td>\n      <td>0.453329</td>\n      <td>0.238561</td>\n      <td>-0.105164</td>\n      <td>0.197473</td>\n      <td>0.056879</td>\n      <td>0.108483</td>\n      <td>0.297773</td>\n      <td>0.014646</td>\n      <td>0.621482</td>\n      <td>...</td>\n      <td>-0.001439</td>\n      <td>0.728328</td>\n      <td>-0.246797</td>\n      <td>-0.381455</td>\n      <td>1.291041</td>\n      <td>-0.015679</td>\n      <td>-0.015679</td>\n      <td>0.164571</td>\n      <td>-0.026744</td>\n      <td>-0.026744</td>\n    </tr>\n    <tr>\n      <th>1</th>\n      <td>0.026949</td>\n      <td>0.047351</td>\n      <td>-0.054801</td>\n      <td>-0.002226</td>\n      <td>-0.196332</td>\n      <td>-0.049161</td>\n      <td>-0.079470</td>\n      <td>-0.080023</td>\n      <td>0.233351</td>\n      <td>0.154089</td>\n      <td>...</td>\n      <td>-0.000466</td>\n      <td>-0.195129</td>\n      <td>-0.220451</td>\n      <td>-0.482146</td>\n      <td>-0.176185</td>\n      <td>-0.047204</td>\n      <td>-0.047204</td>\n      <td>-0.107060</td>\n      <td>-0.025493</td>\n      <td>-0.025493</td>\n    </tr>\n    <tr>\n      <th>2</th>\n      <td>-0.859797</td>\n      <td>-0.379957</td>\n      <td>-0.398707</td>\n      <td>-0.001451</td>\n      <td>-0.304075</td>\n      <td>-0.000070</td>\n      <td>-0.347200</td>\n      <td>-0.244317</td>\n      <td>0.243933</td>\n      <td>-0.476007</td>\n      <td>...</td>\n      <td>-0.044347</td>\n      <td>-0.128989</td>\n      <td>-0.533240</td>\n      <td>0.991808</td>\n      <td>-0.140551</td>\n      <td>0.062860</td>\n      <td>0.062860</td>\n      <td>-0.027768</td>\n      <td>-0.000100</td>\n      <td>-0.000100</td>\n    </tr>\n    <tr>\n      <th>3</th>\n      <td>0.335877</td>\n      <td>-0.825875</td>\n      <td>-0.588897</td>\n      <td>0.312287</td>\n      <td>0.547068</td>\n      <td>0.028245</td>\n      <td>0.075980</td>\n      <td>-0.139477</td>\n      <td>-0.351679</td>\n      <td>-0.312590</td>\n      <td>...</td>\n      <td>0.012401</td>\n      <td>-0.077947</td>\n      <td>-0.315446</td>\n      <td>-0.360643</td>\n      <td>-0.250027</td>\n      <td>-0.269668</td>\n      <td>-0.269668</td>\n      <td>0.512324</td>\n      <td>0.045655</td>\n      <td>0.045655</td>\n    </tr>\n    <tr>\n      <th>4</th>\n      <td>0.159331</td>\n      <td>0.705152</td>\n      <td>0.803844</td>\n      <td>-0.203445</td>\n      <td>-0.244134</td>\n      <td>-0.035894</td>\n      <td>0.242208</td>\n      <td>0.166043</td>\n      <td>-0.140252</td>\n      <td>0.013026</td>\n      <td>...</td>\n      <td>0.033850</td>\n      <td>-0.326264</td>\n      <td>1.315935</td>\n      <td>0.232437</td>\n      <td>-0.724279</td>\n      <td>0.269692</td>\n      <td>0.269692</td>\n      <td>-0.542067</td>\n      <td>0.006682</td>\n      <td>0.006682</td>\n    </tr>\n  </tbody>\n</table>\n<p>5 rows × 5767 columns</p>\n</div>"
     },
     "execution_count": 59,
     "metadata": {},
     "output_type": "execute_result"
    }
   ],
   "source": [
    "coef.head()\n"
   ],
   "metadata": {
    "collapsed": false
   }
  },
  {
   "cell_type": "code",
   "execution_count": 60,
   "outputs": [],
   "source": [
    "from sklearn.metrics import confusion_matrix\n",
    "\n",
    "cm_test = pd.DataFrame(confusion_matrix(y_test, preds_test, labels = best_model.classes_))\n",
    "cm_test_norm = pd.DataFrame(confusion_matrix(y_test, preds_test, labels = best_model.classes_, normalize = 'all'))\n",
    "\n",
    "cm_test.to_json(\"assets/c_matrix.json\")\n",
    "cm_test_norm.to_json(\"assets/c_matrix_norm.json\")\n",
    "\n",
    "\n"
   ],
   "metadata": {
    "collapsed": false
   }
  },
  {
   "cell_type": "code",
   "execution_count": 60,
   "outputs": [],
   "source": [],
   "metadata": {
    "collapsed": false
   }
  }
 ],
 "metadata": {
  "kernelspec": {
   "display_name": "Python 3 (ipykernel)",
   "language": "python",
   "name": "python3"
  },
  "language_info": {
   "codemirror_mode": {
    "name": "ipython",
    "version": 3
   },
   "file_extension": ".py",
   "mimetype": "text/x-python",
   "name": "python",
   "nbconvert_exporter": "python",
   "pygments_lexer": "ipython3",
   "version": "3.9.12"
  }
 },
 "nbformat": 4,
 "nbformat_minor": 5
}
