{
 "cells": [
  {
   "cell_type": "code",
   "execution_count": 21,
   "outputs": [
    {
     "name": "stdout",
     "output_type": "stream",
     "text": [
      "Requirement already satisfied: inflect in /Users/andres/opt/anaconda3/lib/python3.9/site-packages (6.0.0)\r\n",
      "Requirement already satisfied: pydantic in /Users/andres/opt/anaconda3/lib/python3.9/site-packages (from inflect) (1.9.2)\r\n",
      "Requirement already satisfied: typing-extensions>=3.7.4.3 in /Users/andres/opt/anaconda3/lib/python3.9/site-packages (from pydantic->inflect) (4.1.1)\r\n",
      "Requirement already satisfied: pandas-profiling in /Users/andres/opt/anaconda3/lib/python3.9/site-packages (3.4.0)\r\n",
      "Requirement already satisfied: htmlmin==0.1.12 in /Users/andres/opt/anaconda3/lib/python3.9/site-packages (from pandas-profiling) (0.1.12)\r\n",
      "Requirement already satisfied: phik<0.13,>=0.11.1 in /Users/andres/opt/anaconda3/lib/python3.9/site-packages (from pandas-profiling) (0.12.2)\r\n",
      "Requirement already satisfied: pydantic<1.11,>=1.8.1 in /Users/andres/opt/anaconda3/lib/python3.9/site-packages (from pandas-profiling) (1.9.2)\r\n",
      "Requirement already satisfied: multimethod<1.10,>=1.4 in /Users/andres/opt/anaconda3/lib/python3.9/site-packages (from pandas-profiling) (1.8)\r\n",
      "Requirement already satisfied: PyYAML<6.1,>=5.0.0 in /Users/andres/opt/anaconda3/lib/python3.9/site-packages (from pandas-profiling) (6.0)\r\n",
      "Requirement already satisfied: tqdm<4.65,>=4.48.2 in /Users/andres/opt/anaconda3/lib/python3.9/site-packages (from pandas-profiling) (4.64.0)\r\n",
      "Requirement already satisfied: statsmodels<0.14,>=0.13.2 in /Users/andres/opt/anaconda3/lib/python3.9/site-packages (from pandas-profiling) (0.13.2)\r\n",
      "Requirement already satisfied: missingno<0.6,>=0.4.2 in /Users/andres/opt/anaconda3/lib/python3.9/site-packages (from pandas-profiling) (0.5.1)\r\n",
      "Requirement already satisfied: numpy<1.24,>=1.16.0 in /Users/andres/opt/anaconda3/lib/python3.9/site-packages (from pandas-profiling) (1.21.5)\r\n",
      "Requirement already satisfied: requests<2.29,>=2.24.0 in /Users/andres/opt/anaconda3/lib/python3.9/site-packages (from pandas-profiling) (2.27.1)\r\n",
      "Requirement already satisfied: scipy<1.10,>=1.4.1 in /Users/andres/opt/anaconda3/lib/python3.9/site-packages (from pandas-profiling) (1.7.3)\r\n",
      "Requirement already satisfied: seaborn<0.13,>=0.10.1 in /Users/andres/opt/anaconda3/lib/python3.9/site-packages (from pandas-profiling) (0.11.2)\r\n",
      "Requirement already satisfied: visions[type_image_path]==0.7.5 in /Users/andres/opt/anaconda3/lib/python3.9/site-packages (from pandas-profiling) (0.7.5)\r\n",
      "Requirement already satisfied: jinja2<3.2,>=2.11.1 in /Users/andres/opt/anaconda3/lib/python3.9/site-packages (from pandas-profiling) (2.11.3)\r\n",
      "Requirement already satisfied: pandas!=1.4.0,<1.6,>1.1 in /Users/andres/opt/anaconda3/lib/python3.9/site-packages (from pandas-profiling) (1.4.2)\r\n",
      "Requirement already satisfied: matplotlib<3.6,>=3.2 in /Users/andres/opt/anaconda3/lib/python3.9/site-packages (from pandas-profiling) (3.5.1)\r\n",
      "Requirement already satisfied: tangled-up-in-unicode>=0.0.4 in /Users/andres/opt/anaconda3/lib/python3.9/site-packages (from visions[type_image_path]==0.7.5->pandas-profiling) (0.2.0)\r\n",
      "Requirement already satisfied: networkx>=2.4 in /Users/andres/opt/anaconda3/lib/python3.9/site-packages (from visions[type_image_path]==0.7.5->pandas-profiling) (2.7.1)\r\n",
      "Requirement already satisfied: attrs>=19.3.0 in /Users/andres/opt/anaconda3/lib/python3.9/site-packages (from visions[type_image_path]==0.7.5->pandas-profiling) (21.4.0)\r\n",
      "Requirement already satisfied: imagehash in /Users/andres/opt/anaconda3/lib/python3.9/site-packages (from visions[type_image_path]==0.7.5->pandas-profiling) (4.3.0)\r\n",
      "Requirement already satisfied: Pillow in /Users/andres/opt/anaconda3/lib/python3.9/site-packages (from visions[type_image_path]==0.7.5->pandas-profiling) (9.0.1)\r\n",
      "Requirement already satisfied: MarkupSafe>=0.23 in /Users/andres/opt/anaconda3/lib/python3.9/site-packages (from jinja2<3.2,>=2.11.1->pandas-profiling) (2.0.1)\r\n",
      "Requirement already satisfied: fonttools>=4.22.0 in /Users/andres/opt/anaconda3/lib/python3.9/site-packages (from matplotlib<3.6,>=3.2->pandas-profiling) (4.25.0)\r\n",
      "Requirement already satisfied: packaging>=20.0 in /Users/andres/opt/anaconda3/lib/python3.9/site-packages (from matplotlib<3.6,>=3.2->pandas-profiling) (21.3)\r\n",
      "Requirement already satisfied: pyparsing>=2.2.1 in /Users/andres/opt/anaconda3/lib/python3.9/site-packages (from matplotlib<3.6,>=3.2->pandas-profiling) (3.0.4)\r\n",
      "Requirement already satisfied: kiwisolver>=1.0.1 in /Users/andres/opt/anaconda3/lib/python3.9/site-packages (from matplotlib<3.6,>=3.2->pandas-profiling) (1.3.2)\r\n",
      "Requirement already satisfied: python-dateutil>=2.7 in /Users/andres/opt/anaconda3/lib/python3.9/site-packages (from matplotlib<3.6,>=3.2->pandas-profiling) (2.8.2)\r\n",
      "Requirement already satisfied: cycler>=0.10 in /Users/andres/opt/anaconda3/lib/python3.9/site-packages (from matplotlib<3.6,>=3.2->pandas-profiling) (0.11.0)\r\n",
      "Requirement already satisfied: pytz>=2020.1 in /Users/andres/opt/anaconda3/lib/python3.9/site-packages (from pandas!=1.4.0,<1.6,>1.1->pandas-profiling) (2021.3)\r\n",
      "Requirement already satisfied: joblib>=0.14.1 in /Users/andres/opt/anaconda3/lib/python3.9/site-packages (from phik<0.13,>=0.11.1->pandas-profiling) (1.2.0)\r\n",
      "Requirement already satisfied: typing-extensions>=3.7.4.3 in /Users/andres/opt/anaconda3/lib/python3.9/site-packages (from pydantic<1.11,>=1.8.1->pandas-profiling) (4.1.1)\r\n",
      "Requirement already satisfied: six>=1.5 in /Users/andres/opt/anaconda3/lib/python3.9/site-packages (from python-dateutil>=2.7->matplotlib<3.6,>=3.2->pandas-profiling) (1.16.0)\r\n",
      "Requirement already satisfied: certifi>=2017.4.17 in /Users/andres/opt/anaconda3/lib/python3.9/site-packages (from requests<2.29,>=2.24.0->pandas-profiling) (2021.10.8)\r\n",
      "Requirement already satisfied: charset-normalizer~=2.0.0 in /Users/andres/opt/anaconda3/lib/python3.9/site-packages (from requests<2.29,>=2.24.0->pandas-profiling) (2.0.4)\r\n",
      "Requirement already satisfied: idna<4,>=2.5 in /Users/andres/opt/anaconda3/lib/python3.9/site-packages (from requests<2.29,>=2.24.0->pandas-profiling) (3.3)\r\n",
      "Requirement already satisfied: urllib3<1.27,>=1.21.1 in /Users/andres/opt/anaconda3/lib/python3.9/site-packages (from requests<2.29,>=2.24.0->pandas-profiling) (1.26.9)\r\n",
      "Requirement already satisfied: patsy>=0.5.2 in /Users/andres/opt/anaconda3/lib/python3.9/site-packages (from statsmodels<0.14,>=0.13.2->pandas-profiling) (0.5.2)\r\n",
      "Requirement already satisfied: PyWavelets in /Users/andres/opt/anaconda3/lib/python3.9/site-packages (from imagehash->visions[type_image_path]==0.7.5->pandas-profiling) (1.3.0)\r\n"
     ]
    }
   ],
   "source": [
    "# librería para manejar las flexiones gramaticales en el idioma inglés.\n",
    "!pip install inflect\n",
    "!pip install --disable-pip-version-check --progress-bar off -q https://github.com/pandas-profiling/pandas-profiling/archive/master.zip\n",
    "!pip install -U pandas-profiling"
   ],
   "metadata": {
    "collapsed": false
   }
  },
  {
   "cell_type": "code",
   "execution_count": 3,
   "outputs": [],
   "source": [
    "seed = 161\n",
    "\n",
    "import pandas as pd\n",
    "import warnings; warnings.simplefilter('ignore')\n",
    "import nltk\n",
    "\n",
    "from nltk.corpus import stopwords\n",
    "\n",
    "\n",
    "from sklearn.model_selection import train_test_split\n",
    "from sklearn.feature_extraction.text import CountVectorizer, TfidfVectorizer\n",
    "\n",
    "\n",
    "from sklearn.pipeline import Pipeline\n",
    "\n",
    "from joblib import dump, load\n"
   ],
   "metadata": {
    "collapsed": false
   }
  },
  {
   "cell_type": "code",
   "execution_count": 4,
   "outputs": [
    {
     "name": "stderr",
     "output_type": "stream",
     "text": [
      "[nltk_data] Downloading package punkt to /Users/andres/nltk_data...\n",
      "[nltk_data]   Package punkt is already up-to-date!\n",
      "[nltk_data] Downloading package stopwords to\n",
      "[nltk_data]     /Users/andres/nltk_data...\n",
      "[nltk_data]   Package stopwords is already up-to-date!\n",
      "[nltk_data] Downloading package wordnet to /Users/andres/nltk_data...\n",
      "[nltk_data]   Package wordnet is already up-to-date!\n"
     ]
    }
   ],
   "source": [
    "# Descargando las stopwords\n",
    "nltk.download('punkt')\n",
    "nltk.download('stopwords')\n",
    "nltk.download('wordnet')\n",
    "stop_words = set(stopwords.words('english'))"
   ],
   "metadata": {
    "collapsed": false
   }
  },
  {
   "cell_type": "code",
   "execution_count": 5,
   "outputs": [],
   "source": [
    "from sklearn.utils import resample\n",
    "\n"
   ],
   "metadata": {
    "collapsed": false
   }
  },
  {
   "cell_type": "code",
   "execution_count": 6,
   "id": "95f6aa7a-e6dc-41be-8fc6-e71997badf31",
   "metadata": {},
   "outputs": [],
   "source": [
    "# Se cargan los datos. \n",
    "\n",
    "file_name = 'reviews_train_val.csv'\n",
    "reviews_df = pd.read_csv('data/reviews_train_val.csv', sep = ',')\n",
    "\n",
    "neg_class_resampled = resample(\n",
    "    reviews_df, replace=False, n_samples=1000,\n",
    "    random_state=1234,\n",
    ")\n",
    "reviews_df = neg_class_resampled.reset_index(drop=True)"
   ]
  },
  {
   "cell_type": "code",
   "execution_count": null,
   "outputs": [],
   "source": [],
   "metadata": {
    "collapsed": false
   }
  },
  {
   "cell_type": "code",
   "execution_count": 62,
   "outputs": [
    {
     "data": {
      "text/plain": "Summarize dataset:   0%|          | 0/5 [00:00<?, ?it/s]",
      "application/vnd.jupyter.widget-view+json": {
       "version_major": 2,
       "version_minor": 0,
       "model_id": "0e679dfda86d4c76b20ea317d5b3f0ac"
      }
     },
     "metadata": {},
     "output_type": "display_data"
    },
    {
     "data": {
      "text/plain": "Render JSON:   0%|          | 0/1 [00:00<?, ?it/s]",
      "application/vnd.jupyter.widget-view+json": {
       "version_major": 2,
       "version_minor": 0,
       "model_id": "146358edffe64c449b5be4face6ad9dc"
      }
     },
     "metadata": {},
     "output_type": "display_data"
    }
   ],
   "source": [
    "import json\n",
    "from pandas_profiling import ProfileReport\n",
    "##profile = ProfileReport(reviews_df, title='Profiling Report', explorative=True)\n",
    "\n",
    "profile = reviews_df.profile_report()\n",
    "p = profile.to_json()\n",
    "y = json.loads(p)\n",
    "\n",
    "stars = reviews_df.describe()\n",
    "\n",
    "\n",
    "\n",
    "my_profile = {\"count\": y['table']['n'], \"n_var\" : y['table'][\"n_var\"],\n",
    "              \"n_cells_missing\": y['table'][\"n_cells_missing\"],\n",
    "\"n_vars_with_missing\": y['table'][\"n_vars_with_missing\"],\n",
    "\"n_vars_all_missing\": y['table'][\"n_vars_all_missing\"],\n",
    "\"p_cells_missing\": y['table'][\"p_cells_missing\"],\n",
    "\"n_duplicates\": y['table'][\"n_duplicates\"],\n",
    "\"p_duplicates\": y['table'][\"p_duplicates\"],\n",
    "\n",
    "              \"stars\": json.loads(stars.to_json())[\"stars\"]\n",
    "              }\n",
    "\n",
    "\n",
    "with open(\"assets/profile.json\", \"w\") as write_file:\n",
    "    json.dump(my_profile, write_file)\n"
   ],
   "metadata": {
    "collapsed": false
   }
  },
  {
   "cell_type": "code",
   "execution_count": 63,
   "outputs": [
    {
     "data": {
      "text/plain": "(1000, 2)"
     },
     "execution_count": 63,
     "metadata": {},
     "output_type": "execute_result"
    }
   ],
   "source": [
    "# Se filtran los que no tienen etiqueta\n",
    "reviews_labeled_df = reviews_df.loc[reviews_df['stars'].notnull()]\n",
    "reviews_labeled_df.shape"
   ],
   "metadata": {
    "collapsed": false
   }
  },
  {
   "cell_type": "code",
   "execution_count": 8,
   "outputs": [
    {
     "data": {
      "text/plain": "            stars\ncount  1000.00000\nmean      3.73600\nstd       1.48206\nmin       1.00000\n25%       3.00000\n50%       4.00000\n75%       5.00000\nmax       5.00000",
      "text/html": "<div>\n<style scoped>\n    .dataframe tbody tr th:only-of-type {\n        vertical-align: middle;\n    }\n\n    .dataframe tbody tr th {\n        vertical-align: top;\n    }\n\n    .dataframe thead th {\n        text-align: right;\n    }\n</style>\n<table border=\"1\" class=\"dataframe\">\n  <thead>\n    <tr style=\"text-align: right;\">\n      <th></th>\n      <th>stars</th>\n    </tr>\n  </thead>\n  <tbody>\n    <tr>\n      <th>count</th>\n      <td>1000.00000</td>\n    </tr>\n    <tr>\n      <th>mean</th>\n      <td>3.73600</td>\n    </tr>\n    <tr>\n      <th>std</th>\n      <td>1.48206</td>\n    </tr>\n    <tr>\n      <th>min</th>\n      <td>1.00000</td>\n    </tr>\n    <tr>\n      <th>25%</th>\n      <td>3.00000</td>\n    </tr>\n    <tr>\n      <th>50%</th>\n      <td>4.00000</td>\n    </tr>\n    <tr>\n      <th>75%</th>\n      <td>5.00000</td>\n    </tr>\n    <tr>\n      <th>max</th>\n      <td>5.00000</td>\n    </tr>\n  </tbody>\n</table>\n</div>"
     },
     "execution_count": 8,
     "metadata": {},
     "output_type": "execute_result"
    }
   ],
   "source": [
    "reviews_labeled_df.describe()"
   ],
   "metadata": {
    "collapsed": false
   }
  },
  {
   "cell_type": "code",
   "execution_count": 9,
   "outputs": [
    {
     "data": {
      "text/plain": "(800,)"
     },
     "execution_count": 9,
     "metadata": {},
     "output_type": "execute_result"
    }
   ],
   "source": [
    "\n",
    "\n",
    "X_train, X_test, y_train, y_test = train_test_split(reviews_labeled_df['text'], reviews_labeled_df['stars'], test_size = 0.2, stratify = reviews_labeled_df['stars'], random_state = 1)\n",
    "\n",
    "X_train.shape"
   ],
   "metadata": {
    "collapsed": false
   }
  },
  {
   "cell_type": "code",
   "execution_count": 10,
   "outputs": [],
   "source": [
    "from Processor.TextProcessor import TextProcesser\n",
    "\n",
    "\n",
    "estimators = [\n",
    "    (\"processer\", TextProcesser()),\n",
    "    (\"vect\", CountVectorizer(max_df = 0.5, min_df = 0.001)),\n",
    "]\n",
    "processing_pipeline = Pipeline(estimators)\n"
   ],
   "metadata": {
    "collapsed": false
   }
  },
  {
   "cell_type": "code",
   "execution_count": 11,
   "outputs": [],
   "source": [
    "X_train = processing_pipeline.fit_transform(X_train).toarray()\n",
    "X_test = processing_pipeline.transform(X_test).toarray()"
   ],
   "metadata": {
    "collapsed": false
   }
  },
  {
   "cell_type": "code",
   "execution_count": 12,
   "outputs": [
    {
     "data": {
      "text/plain": "['assets/pipeline.joblib']"
     },
     "execution_count": 12,
     "metadata": {},
     "output_type": "execute_result"
    }
   ],
   "source": [
    "dump(processing_pipeline, \"assets/pipeline.joblib\")"
   ],
   "metadata": {
    "collapsed": false
   }
  },
  {
   "cell_type": "code",
   "execution_count": 13,
   "outputs": [],
   "source": [
    "from sklearn.linear_model import LogisticRegression\n",
    "\n",
    "best_model = LogisticRegression(C=50,\n",
    " multi_class = 'auto',\n",
    " penalty= 'l2',\n",
    " solver= 'newton-cg',\n",
    " )\n"
   ],
   "metadata": {
    "collapsed": false
   }
  },
  {
   "cell_type": "code",
   "execution_count": 14,
   "outputs": [
    {
     "data": {
      "text/plain": "LogisticRegression(C=50, solver='newton-cg')"
     },
     "execution_count": 14,
     "metadata": {},
     "output_type": "execute_result"
    }
   ],
   "source": [
    "best_model.fit(X_train, y_train)"
   ],
   "metadata": {
    "collapsed": false
   }
  },
  {
   "cell_type": "code",
   "execution_count": 15,
   "id": "46cb556f-a5c0-4ba3-9b1b-0e46dd08e1e1",
   "metadata": {},
   "outputs": [
    {
     "data": {
      "text/plain": "['assets/model.joblib']"
     },
     "execution_count": 15,
     "metadata": {},
     "output_type": "execute_result"
    }
   ],
   "source": [
    "\n",
    "dump(best_model, \"assets/model.joblib\")"
   ]
  },
  {
   "cell_type": "code",
   "execution_count": 16,
   "outputs": [],
   "source": [
    "preds_train = best_model.predict(X_train)\n",
    "preds_test = best_model.predict(X_test)"
   ],
   "metadata": {
    "collapsed": false
   }
  },
  {
   "cell_type": "code",
   "execution_count": 17,
   "outputs": [],
   "source": [
    "from sklearn.metrics import precision_recall_fscore_support\n",
    "\n",
    "\n",
    "def pandas_classification_report(y_true, y_pred):\n",
    "    metrics_summary = precision_recall_fscore_support(\n",
    "            y_true=y_true,\n",
    "            y_pred=y_pred)\n",
    "\n",
    "    avg = list(precision_recall_fscore_support(\n",
    "            y_true=y_true,\n",
    "            y_pred=y_pred,\n",
    "            average='weighted'))\n",
    "\n",
    "    metrics_sum_index = ['precision', 'recall', 'f1-score', 'support']\n",
    "    class_report_df = pd.DataFrame(\n",
    "        list(metrics_summary),\n",
    "        index=metrics_sum_index)\n",
    "\n",
    "    support = class_report_df.loc['support']\n",
    "    total = support.sum()\n",
    "    avg[-1] = total\n",
    "\n",
    "    class_report_df['avg'] = avg\n",
    "\n",
    "    return class_report_df.T\n",
    "\n",
    "df_class_report = pandas_classification_report(y_test, preds_test)\n",
    "\n",
    "df_class_report.to_json(\"assets/report.json\")\n"
   ],
   "metadata": {
    "collapsed": false
   }
  },
  {
   "cell_type": "code",
   "execution_count": 18,
   "outputs": [],
   "source": [
    "vocabulary = processing_pipeline.steps[1][1].vocabulary_\n",
    "\n",
    "coef = pd.DataFrame(best_model.coef_)\n",
    "coef.columns = vocabulary\n",
    "\n",
    "coef.to_json(\"assets/coefficients.json\")"
   ],
   "metadata": {
    "collapsed": false
   }
  },
  {
   "cell_type": "code",
   "execution_count": 19,
   "outputs": [
    {
     "data": {
      "text/plain": "        got   vitamin       b12       don     debby       gav      amaz  \\\n0 -0.000025 -0.030247  0.075612 -0.084959 -0.000345 -0.001015 -0.000002   \n1 -0.007309 -0.016717  0.103544  0.008295 -0.007429 -0.006864 -0.005756   \n2 -0.010976  0.064067 -0.258629  0.000727 -0.003673 -0.000013 -0.000006   \n3  0.078862 -0.013893  0.462883  0.186397 -0.149560  0.007907 -0.000631   \n4 -0.060551 -0.003210 -0.383409 -0.110460  0.161007 -0.000015  0.006396   \n\n         energy     boost      felt  ...  threading           sir      zhar  \\\n0 -2.706658e-07 -0.054922 -0.000017  ...   0.000002 -3.137818e-03 -0.022785   \n1 -4.190186e-02 -0.018415 -0.000205  ...  -0.016588  2.598167e-02 -0.053668   \n2  4.454464e-02 -0.036398 -0.000670  ...  -0.000095 -7.213409e-03 -0.057267   \n3 -1.401223e-06 -0.092517  0.043735  ...  -0.007348 -1.563030e-02  0.553680   \n4 -2.641109e-03  0.202252 -0.042842  ...   0.024030 -1.438166e-07 -0.419960   \n\n     thread        sarees         india     karissima        zharee  \\\n0 -0.008994  3.016690e-03  3.016690e-03  2.264988e-02  2.264988e-02   \n1  0.061913 -2.599313e-03 -2.599313e-03 -1.842878e-02 -1.842878e-02   \n2  0.012053 -4.180863e-04 -4.180863e-04 -1.893560e-05 -1.893560e-05   \n3 -0.041999  3.975529e-07  3.975529e-07 -4.201871e-03 -4.201871e-03   \n4 -0.022973  3.121459e-07  3.121459e-07 -2.957560e-07 -2.957560e-07   \n\n         fascin  fascinate  \n0  8.577819e-08  -0.001730  \n1  4.895428e-02  -0.000209  \n2 -1.728936e-06  -0.000135  \n3 -4.573214e-02  -0.023497  \n4 -3.220504e-03   0.025571  \n\n[5 rows x 8525 columns]",
      "text/html": "<div>\n<style scoped>\n    .dataframe tbody tr th:only-of-type {\n        vertical-align: middle;\n    }\n\n    .dataframe tbody tr th {\n        vertical-align: top;\n    }\n\n    .dataframe thead th {\n        text-align: right;\n    }\n</style>\n<table border=\"1\" class=\"dataframe\">\n  <thead>\n    <tr style=\"text-align: right;\">\n      <th></th>\n      <th>got</th>\n      <th>vitamin</th>\n      <th>b12</th>\n      <th>don</th>\n      <th>debby</th>\n      <th>gav</th>\n      <th>amaz</th>\n      <th>energy</th>\n      <th>boost</th>\n      <th>felt</th>\n      <th>...</th>\n      <th>threading</th>\n      <th>sir</th>\n      <th>zhar</th>\n      <th>thread</th>\n      <th>sarees</th>\n      <th>india</th>\n      <th>karissima</th>\n      <th>zharee</th>\n      <th>fascin</th>\n      <th>fascinate</th>\n    </tr>\n  </thead>\n  <tbody>\n    <tr>\n      <th>0</th>\n      <td>-0.000025</td>\n      <td>-0.030247</td>\n      <td>0.075612</td>\n      <td>-0.084959</td>\n      <td>-0.000345</td>\n      <td>-0.001015</td>\n      <td>-0.000002</td>\n      <td>-2.706658e-07</td>\n      <td>-0.054922</td>\n      <td>-0.000017</td>\n      <td>...</td>\n      <td>0.000002</td>\n      <td>-3.137818e-03</td>\n      <td>-0.022785</td>\n      <td>-0.008994</td>\n      <td>3.016690e-03</td>\n      <td>3.016690e-03</td>\n      <td>2.264988e-02</td>\n      <td>2.264988e-02</td>\n      <td>8.577819e-08</td>\n      <td>-0.001730</td>\n    </tr>\n    <tr>\n      <th>1</th>\n      <td>-0.007309</td>\n      <td>-0.016717</td>\n      <td>0.103544</td>\n      <td>0.008295</td>\n      <td>-0.007429</td>\n      <td>-0.006864</td>\n      <td>-0.005756</td>\n      <td>-4.190186e-02</td>\n      <td>-0.018415</td>\n      <td>-0.000205</td>\n      <td>...</td>\n      <td>-0.016588</td>\n      <td>2.598167e-02</td>\n      <td>-0.053668</td>\n      <td>0.061913</td>\n      <td>-2.599313e-03</td>\n      <td>-2.599313e-03</td>\n      <td>-1.842878e-02</td>\n      <td>-1.842878e-02</td>\n      <td>4.895428e-02</td>\n      <td>-0.000209</td>\n    </tr>\n    <tr>\n      <th>2</th>\n      <td>-0.010976</td>\n      <td>0.064067</td>\n      <td>-0.258629</td>\n      <td>0.000727</td>\n      <td>-0.003673</td>\n      <td>-0.000013</td>\n      <td>-0.000006</td>\n      <td>4.454464e-02</td>\n      <td>-0.036398</td>\n      <td>-0.000670</td>\n      <td>...</td>\n      <td>-0.000095</td>\n      <td>-7.213409e-03</td>\n      <td>-0.057267</td>\n      <td>0.012053</td>\n      <td>-4.180863e-04</td>\n      <td>-4.180863e-04</td>\n      <td>-1.893560e-05</td>\n      <td>-1.893560e-05</td>\n      <td>-1.728936e-06</td>\n      <td>-0.000135</td>\n    </tr>\n    <tr>\n      <th>3</th>\n      <td>0.078862</td>\n      <td>-0.013893</td>\n      <td>0.462883</td>\n      <td>0.186397</td>\n      <td>-0.149560</td>\n      <td>0.007907</td>\n      <td>-0.000631</td>\n      <td>-1.401223e-06</td>\n      <td>-0.092517</td>\n      <td>0.043735</td>\n      <td>...</td>\n      <td>-0.007348</td>\n      <td>-1.563030e-02</td>\n      <td>0.553680</td>\n      <td>-0.041999</td>\n      <td>3.975529e-07</td>\n      <td>3.975529e-07</td>\n      <td>-4.201871e-03</td>\n      <td>-4.201871e-03</td>\n      <td>-4.573214e-02</td>\n      <td>-0.023497</td>\n    </tr>\n    <tr>\n      <th>4</th>\n      <td>-0.060551</td>\n      <td>-0.003210</td>\n      <td>-0.383409</td>\n      <td>-0.110460</td>\n      <td>0.161007</td>\n      <td>-0.000015</td>\n      <td>0.006396</td>\n      <td>-2.641109e-03</td>\n      <td>0.202252</td>\n      <td>-0.042842</td>\n      <td>...</td>\n      <td>0.024030</td>\n      <td>-1.438166e-07</td>\n      <td>-0.419960</td>\n      <td>-0.022973</td>\n      <td>3.121459e-07</td>\n      <td>3.121459e-07</td>\n      <td>-2.957560e-07</td>\n      <td>-2.957560e-07</td>\n      <td>-3.220504e-03</td>\n      <td>0.025571</td>\n    </tr>\n  </tbody>\n</table>\n<p>5 rows × 8525 columns</p>\n</div>"
     },
     "execution_count": 19,
     "metadata": {},
     "output_type": "execute_result"
    }
   ],
   "source": [
    "coef.head()\n"
   ],
   "metadata": {
    "collapsed": false
   }
  },
  {
   "cell_type": "code",
   "execution_count": 20,
   "outputs": [],
   "source": [
    "from sklearn.metrics import confusion_matrix\n",
    "\n",
    "cm_test = pd.DataFrame(confusion_matrix(y_test, preds_test, labels = best_model.classes_))\n",
    "cm_test_norm = pd.DataFrame(confusion_matrix(y_test, preds_test, labels = best_model.classes_, normalize = 'all'))\n",
    "\n",
    "cm_test.to_json(\"assets/c_matrix.json\")\n",
    "cm_test_norm.to_json(\"assets/c_matrix_norm.json\")\n",
    "\n",
    "\n"
   ],
   "metadata": {
    "collapsed": false
   }
  },
  {
   "cell_type": "code",
   "execution_count": 20,
   "outputs": [],
   "source": [],
   "metadata": {
    "collapsed": false
   }
  }
 ],
 "metadata": {
  "kernelspec": {
   "display_name": "Python 3 (ipykernel)",
   "language": "python",
   "name": "python3"
  },
  "language_info": {
   "codemirror_mode": {
    "name": "ipython",
    "version": 3
   },
   "file_extension": ".py",
   "mimetype": "text/x-python",
   "name": "python",
   "nbconvert_exporter": "python",
   "pygments_lexer": "ipython3",
   "version": "3.9.12"
  }
 },
 "nbformat": 4,
 "nbformat_minor": 5
}
