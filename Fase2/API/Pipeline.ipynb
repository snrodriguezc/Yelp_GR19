{
 "cells": [
  {
   "cell_type": "code",
   "execution_count": 2,
   "outputs": [
    {
     "name": "stdout",
     "output_type": "stream",
     "text": [
      "Requirement already satisfied: inflect in /Users/andres/opt/anaconda3/lib/python3.9/site-packages (6.0.0)\r\n",
      "Requirement already satisfied: pydantic in /Users/andres/opt/anaconda3/lib/python3.9/site-packages (from inflect) (1.9.2)\r\n",
      "Requirement already satisfied: typing-extensions>=3.7.4.3 in /Users/andres/opt/anaconda3/lib/python3.9/site-packages (from pydantic->inflect) (4.1.1)\r\n"
     ]
    }
   ],
   "source": [
    "# librería para manejar las flexiones gramaticales en el idioma inglés.\n",
    "!pip install inflect\n",
    "!pip install --disable-pip-version-check --progress-bar off -q https://github.com/pandas-profiling/pandas-profiling/archive/master.zip"
   ],
   "metadata": {
    "collapsed": false
   }
  },
  {
   "cell_type": "code",
   "execution_count": 3,
   "outputs": [],
   "source": [
    "seed = 161\n",
    "\n",
    "import pandas as pd\n",
    "import warnings; warnings.simplefilter('ignore')\n",
    "import nltk\n",
    "\n",
    "from nltk.corpus import stopwords\n",
    "\n",
    "\n",
    "from sklearn.model_selection import train_test_split\n",
    "from sklearn.feature_extraction.text import CountVectorizer, TfidfVectorizer\n",
    "\n",
    "\n",
    "from sklearn.pipeline import Pipeline\n",
    "\n",
    "from joblib import dump, load\n"
   ],
   "metadata": {
    "collapsed": false
   }
  },
  {
   "cell_type": "code",
   "execution_count": 4,
   "outputs": [
    {
     "name": "stderr",
     "output_type": "stream",
     "text": [
      "[nltk_data] Downloading package punkt to /Users/andres/nltk_data...\n",
      "[nltk_data]   Package punkt is already up-to-date!\n",
      "[nltk_data] Downloading package stopwords to\n",
      "[nltk_data]     /Users/andres/nltk_data...\n",
      "[nltk_data]   Package stopwords is already up-to-date!\n",
      "[nltk_data] Downloading package wordnet to /Users/andres/nltk_data...\n",
      "[nltk_data]   Package wordnet is already up-to-date!\n"
     ]
    }
   ],
   "source": [
    "# Descargando las stopwords\n",
    "nltk.download('punkt')\n",
    "nltk.download('stopwords')\n",
    "nltk.download('wordnet')\n",
    "stop_words = set(stopwords.words('english'))"
   ],
   "metadata": {
    "collapsed": false
   }
  },
  {
   "cell_type": "code",
   "execution_count": 5,
   "outputs": [],
   "source": [
    "from sklearn.utils import resample\n",
    "\n"
   ],
   "metadata": {
    "collapsed": false
   }
  },
  {
   "cell_type": "code",
   "execution_count": 6,
   "id": "95f6aa7a-e6dc-41be-8fc6-e71997badf31",
   "metadata": {},
   "outputs": [],
   "source": [
    "# Se cargan los datos. \n",
    "\n",
    "file_name = 'reviews_train_val.csv'\n",
    "reviews_df = pd.read_csv('data/reviews_train_val.csv', sep = ',')\n",
    "\n",
    "neg_class_resampled = resample(\n",
    "    reviews_df, replace=False, n_samples=2000,\n",
    "    random_state=1234,\n",
    ")\n",
    "reviews_df = neg_class_resampled.reset_index(drop=True)"
   ]
  },
  {
   "cell_type": "code",
   "execution_count": 7,
   "outputs": [
    {
     "data": {
      "text/plain": "(2000, 2)"
     },
     "execution_count": 7,
     "metadata": {},
     "output_type": "execute_result"
    }
   ],
   "source": [
    "# Se filtran los que no tienen etiqueta\n",
    "reviews_labeled_df = reviews_df.loc[reviews_df['stars'].notnull()]\n",
    "reviews_labeled_df.shape"
   ],
   "metadata": {
    "collapsed": false
   }
  },
  {
   "cell_type": "code",
   "execution_count": 8,
   "outputs": [
    {
     "data": {
      "text/plain": "(1600,)"
     },
     "execution_count": 8,
     "metadata": {},
     "output_type": "execute_result"
    }
   ],
   "source": [
    "\n",
    "\n",
    "X_train, X_test, y_train, y_test = train_test_split(reviews_labeled_df['text'], reviews_labeled_df['stars'], test_size = 0.2, stratify = reviews_labeled_df['stars'], random_state = 1)\n",
    "\n",
    "X_train.shape"
   ],
   "metadata": {
    "collapsed": false
   }
  },
  {
   "cell_type": "code",
   "execution_count": 9,
   "outputs": [],
   "source": [
    "from Processor.TextProcessor import TextProcesser\n",
    "\n",
    "\n",
    "estimators = [\n",
    "    (\"processer\", TextProcesser()),\n",
    "    (\"vect\", CountVectorizer(max_df = 0.5, min_df = 0.001)),\n",
    "]\n",
    "processing_pipeline = Pipeline(estimators)\n"
   ],
   "metadata": {
    "collapsed": false
   }
  },
  {
   "cell_type": "code",
   "execution_count": 10,
   "outputs": [],
   "source": [
    "X_train = processing_pipeline.fit_transform(X_train).toarray()\n",
    "X_test = processing_pipeline.transform(X_test).toarray()"
   ],
   "metadata": {
    "collapsed": false
   }
  },
  {
   "cell_type": "code",
   "execution_count": 11,
   "outputs": [
    {
     "data": {
      "text/plain": "['assets/pipeline.joblib']"
     },
     "execution_count": 11,
     "metadata": {},
     "output_type": "execute_result"
    }
   ],
   "source": [
    "dump(processing_pipeline, \"assets/pipeline.joblib\")"
   ],
   "metadata": {
    "collapsed": false
   }
  },
  {
   "cell_type": "code",
   "execution_count": 12,
   "outputs": [],
   "source": [
    "from sklearn.linear_model import LogisticRegression\n",
    "\n",
    "best_model = LogisticRegression(C=50,\n",
    " multi_class = 'auto',\n",
    " penalty= 'l2',\n",
    " solver= 'newton-cg',\n",
    " )\n"
   ],
   "metadata": {
    "collapsed": false
   }
  },
  {
   "cell_type": "code",
   "execution_count": 13,
   "outputs": [
    {
     "data": {
      "text/plain": "LogisticRegression(C=50, solver='newton-cg')"
     },
     "execution_count": 13,
     "metadata": {},
     "output_type": "execute_result"
    }
   ],
   "source": [
    "best_model.fit(X_train, y_train)"
   ],
   "metadata": {
    "collapsed": false
   }
  },
  {
   "cell_type": "code",
   "execution_count": 14,
   "id": "46cb556f-a5c0-4ba3-9b1b-0e46dd08e1e1",
   "metadata": {},
   "outputs": [
    {
     "data": {
      "text/plain": "['assets/model.joblib']"
     },
     "execution_count": 14,
     "metadata": {},
     "output_type": "execute_result"
    }
   ],
   "source": [
    "\n",
    "dump(best_model, \"assets/model.joblib\")"
   ]
  },
  {
   "cell_type": "code",
   "execution_count": 15,
   "outputs": [],
   "source": [
    "preds_train = best_model.predict(X_train)\n",
    "preds_test = best_model.predict(X_test)"
   ],
   "metadata": {
    "collapsed": false
   }
  },
  {
   "cell_type": "code",
   "execution_count": 16,
   "outputs": [],
   "source": [
    "from sklearn.metrics import precision_recall_fscore_support\n",
    "\n",
    "\n",
    "def pandas_classification_report(y_true, y_pred):\n",
    "    metrics_summary = precision_recall_fscore_support(\n",
    "            y_true=y_true,\n",
    "            y_pred=y_pred)\n",
    "\n",
    "    avg = list(precision_recall_fscore_support(\n",
    "            y_true=y_true,\n",
    "            y_pred=y_pred,\n",
    "            average='weighted'))\n",
    "\n",
    "    metrics_sum_index = ['precision', 'recall', 'f1-score', 'support']\n",
    "    class_report_df = pd.DataFrame(\n",
    "        list(metrics_summary),\n",
    "        index=metrics_sum_index)\n",
    "\n",
    "    support = class_report_df.loc['support']\n",
    "    total = support.sum()\n",
    "    avg[-1] = total\n",
    "\n",
    "    class_report_df['avg'] = avg\n",
    "\n",
    "    return class_report_df.T\n",
    "\n",
    "df_class_report = pandas_classification_report(y_test, preds_test)\n",
    "\n",
    "df_class_report.to_json(\"assets/report.json\")\n"
   ],
   "metadata": {
    "collapsed": false
   }
  },
  {
   "cell_type": "code",
   "execution_count": 17,
   "outputs": [],
   "source": [
    "vocabulary = processing_pipeline.steps[1][1].vocabulary_\n",
    "\n",
    "coef = pd.DataFrame(best_model.coef_)\n",
    "coef.columns = vocabulary\n",
    "\n",
    "coef.to_json(\"assets/coefficients.json\")\n"
   ],
   "metadata": {
    "collapsed": false
   }
  },
  {
   "cell_type": "code",
   "execution_count": 18,
   "outputs": [
    {
     "data": {
      "text/plain": "        cal   appoint      show       job       nee       don      took  \\\n0  0.499474 -0.124017  0.529845  0.019718 -0.110217 -0.097936  0.085162   \n1 -0.371662 -0.260572 -0.019276 -0.165761  0.148351  0.119268 -0.082050   \n2 -0.477261 -0.000295 -0.239518 -0.052297 -0.020076 -0.064163 -0.164466   \n3  0.356960  0.194480 -0.278374 -0.157482 -0.016475 -0.033787  0.231062   \n4 -0.007511  0.190405  0.007322  0.355821 -0.001583  0.076618 -0.069709   \n\n         12      week    return  ...       zen   antique      21st      drag  \\\n0 -0.013951  0.052404 -0.021919  ... -0.005244 -0.014394 -0.138434 -0.015360   \n1 -0.083319 -0.010411  0.037686  ... -0.003946 -0.018310 -0.159139 -0.031264   \n2  0.157978 -0.000213  0.089819  ... -0.139776 -0.078317 -0.141547  0.175743   \n3 -0.047651 -0.000044 -0.056807  ...  0.291916  0.243979  0.340494 -0.182297   \n4 -0.013057 -0.041735 -0.048779  ... -0.142950 -0.132959  0.098626  0.053178   \n\n   generously   potatoe     ribey    ribeye         remak          1215  \n0   -0.021067  0.023912 -0.014336 -0.013435  4.986341e-02  4.986341e-02  \n1   -0.075086  0.141798  0.067785  0.067570 -2.044468e-02 -2.044468e-02  \n2   -0.218274 -0.046320 -0.027091 -0.027093 -5.918417e-02 -5.918417e-02  \n3    0.649101 -0.150428 -0.002463 -0.002463  2.976568e-02  2.976568e-02  \n4   -0.334675  0.031037 -0.023895 -0.024580 -2.289256e-07 -2.289256e-07  \n\n[5 rows x 5966 columns]",
      "text/html": "<div>\n<style scoped>\n    .dataframe tbody tr th:only-of-type {\n        vertical-align: middle;\n    }\n\n    .dataframe tbody tr th {\n        vertical-align: top;\n    }\n\n    .dataframe thead th {\n        text-align: right;\n    }\n</style>\n<table border=\"1\" class=\"dataframe\">\n  <thead>\n    <tr style=\"text-align: right;\">\n      <th></th>\n      <th>cal</th>\n      <th>appoint</th>\n      <th>show</th>\n      <th>job</th>\n      <th>nee</th>\n      <th>don</th>\n      <th>took</th>\n      <th>12</th>\n      <th>week</th>\n      <th>return</th>\n      <th>...</th>\n      <th>zen</th>\n      <th>antique</th>\n      <th>21st</th>\n      <th>drag</th>\n      <th>generously</th>\n      <th>potatoe</th>\n      <th>ribey</th>\n      <th>ribeye</th>\n      <th>remak</th>\n      <th>1215</th>\n    </tr>\n  </thead>\n  <tbody>\n    <tr>\n      <th>0</th>\n      <td>0.499474</td>\n      <td>-0.124017</td>\n      <td>0.529845</td>\n      <td>0.019718</td>\n      <td>-0.110217</td>\n      <td>-0.097936</td>\n      <td>0.085162</td>\n      <td>-0.013951</td>\n      <td>0.052404</td>\n      <td>-0.021919</td>\n      <td>...</td>\n      <td>-0.005244</td>\n      <td>-0.014394</td>\n      <td>-0.138434</td>\n      <td>-0.015360</td>\n      <td>-0.021067</td>\n      <td>0.023912</td>\n      <td>-0.014336</td>\n      <td>-0.013435</td>\n      <td>4.986341e-02</td>\n      <td>4.986341e-02</td>\n    </tr>\n    <tr>\n      <th>1</th>\n      <td>-0.371662</td>\n      <td>-0.260572</td>\n      <td>-0.019276</td>\n      <td>-0.165761</td>\n      <td>0.148351</td>\n      <td>0.119268</td>\n      <td>-0.082050</td>\n      <td>-0.083319</td>\n      <td>-0.010411</td>\n      <td>0.037686</td>\n      <td>...</td>\n      <td>-0.003946</td>\n      <td>-0.018310</td>\n      <td>-0.159139</td>\n      <td>-0.031264</td>\n      <td>-0.075086</td>\n      <td>0.141798</td>\n      <td>0.067785</td>\n      <td>0.067570</td>\n      <td>-2.044468e-02</td>\n      <td>-2.044468e-02</td>\n    </tr>\n    <tr>\n      <th>2</th>\n      <td>-0.477261</td>\n      <td>-0.000295</td>\n      <td>-0.239518</td>\n      <td>-0.052297</td>\n      <td>-0.020076</td>\n      <td>-0.064163</td>\n      <td>-0.164466</td>\n      <td>0.157978</td>\n      <td>-0.000213</td>\n      <td>0.089819</td>\n      <td>...</td>\n      <td>-0.139776</td>\n      <td>-0.078317</td>\n      <td>-0.141547</td>\n      <td>0.175743</td>\n      <td>-0.218274</td>\n      <td>-0.046320</td>\n      <td>-0.027091</td>\n      <td>-0.027093</td>\n      <td>-5.918417e-02</td>\n      <td>-5.918417e-02</td>\n    </tr>\n    <tr>\n      <th>3</th>\n      <td>0.356960</td>\n      <td>0.194480</td>\n      <td>-0.278374</td>\n      <td>-0.157482</td>\n      <td>-0.016475</td>\n      <td>-0.033787</td>\n      <td>0.231062</td>\n      <td>-0.047651</td>\n      <td>-0.000044</td>\n      <td>-0.056807</td>\n      <td>...</td>\n      <td>0.291916</td>\n      <td>0.243979</td>\n      <td>0.340494</td>\n      <td>-0.182297</td>\n      <td>0.649101</td>\n      <td>-0.150428</td>\n      <td>-0.002463</td>\n      <td>-0.002463</td>\n      <td>2.976568e-02</td>\n      <td>2.976568e-02</td>\n    </tr>\n    <tr>\n      <th>4</th>\n      <td>-0.007511</td>\n      <td>0.190405</td>\n      <td>0.007322</td>\n      <td>0.355821</td>\n      <td>-0.001583</td>\n      <td>0.076618</td>\n      <td>-0.069709</td>\n      <td>-0.013057</td>\n      <td>-0.041735</td>\n      <td>-0.048779</td>\n      <td>...</td>\n      <td>-0.142950</td>\n      <td>-0.132959</td>\n      <td>0.098626</td>\n      <td>0.053178</td>\n      <td>-0.334675</td>\n      <td>0.031037</td>\n      <td>-0.023895</td>\n      <td>-0.024580</td>\n      <td>-2.289256e-07</td>\n      <td>-2.289256e-07</td>\n    </tr>\n  </tbody>\n</table>\n<p>5 rows × 5966 columns</p>\n</div>"
     },
     "execution_count": 18,
     "metadata": {},
     "output_type": "execute_result"
    }
   ],
   "source": [
    "coef.head()\n"
   ],
   "metadata": {
    "collapsed": false
   }
  },
  {
   "cell_type": "code",
   "execution_count": 19,
   "outputs": [
    {
     "name": "stdout",
     "output_type": "stream",
     "text": [
      "[[ 41   2   4   3  10]\n",
      " [  8   3   8   8   6]\n",
      " [  8   5   8  13   9]\n",
      " [  4   3  12  33  36]\n",
      " [  4   2   6  34 130]]\n"
     ]
    }
   ],
   "source": [
    "from sklearn.metrics import confusion_matrix\n",
    "\n",
    "cm_test = confusion_matrix(y_test, preds_test, labels = best_model.classes_)\n",
    "cm_test_norm = confusion_matrix(y_test, preds_test, labels = best_model.classes_, normalize = 'all')\n",
    "\n",
    "print(cm_test)"
   ],
   "metadata": {
    "collapsed": false
   }
  },
  {
   "cell_type": "code",
   "execution_count": 19,
   "outputs": [],
   "source": [],
   "metadata": {
    "collapsed": false
   }
  }
 ],
 "metadata": {
  "kernelspec": {
   "display_name": "Python 3 (ipykernel)",
   "language": "python",
   "name": "python3"
  },
  "language_info": {
   "codemirror_mode": {
    "name": "ipython",
    "version": 3
   },
   "file_extension": ".py",
   "mimetype": "text/x-python",
   "name": "python",
   "nbconvert_exporter": "python",
   "pygments_lexer": "ipython3",
   "version": "3.9.12"
  }
 },
 "nbformat": 4,
 "nbformat_minor": 5
}
