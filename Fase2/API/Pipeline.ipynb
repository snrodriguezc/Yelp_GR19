{
 "cells": [
  {
   "cell_type": "code",
   "execution_count": 229,
   "outputs": [
    {
     "name": "stdout",
     "output_type": "stream",
     "text": [
      "Requirement already satisfied: inflect in /Users/andres/Dropbox/2022-02/BI/proj1-2/Lab4_GR19-main/venv/lib/python3.9/site-packages (6.0.2)\r\n",
      "Requirement already satisfied: pydantic>=1.9.1 in /Users/andres/Dropbox/2022-02/BI/proj1-2/Lab4_GR19-main/venv/lib/python3.9/site-packages (from inflect) (1.10.2)\r\n",
      "Requirement already satisfied: typing-extensions>=4.1.0 in /Users/andres/Dropbox/2022-02/BI/proj1-2/Lab4_GR19-main/venv/lib/python3.9/site-packages (from pydantic>=1.9.1->inflect) (4.4.0)\r\n",
      "\u001B[33mWARNING: Error parsing requirements for matplotlib: [Errno 2] No such file or directory: '/Users/andres/Dropbox/2022-02/BI/proj1-2/Lab4_GR19-main/venv/lib/python3.9/site-packages/matplotlib-3.6.2.dist-info/METADATA'\u001B[0m\r\n",
      "\u001B[33mWARNING: You are using pip version 21.3.1; however, version 22.3.1 is available.\r\n",
      "You should consider upgrading via the '/Users/andres/Dropbox/2022-02/BI/proj1-2/Lab4_GR19-main/venv/bin/python -m pip install --upgrade pip' command.\u001B[0m\r\n",
      "\u001B[33mWARNING: Error parsing requirements for matplotlib: [Errno 2] No such file or directory: '/Users/andres/Dropbox/2022-02/BI/proj1-2/Lab4_GR19-main/venv/lib/python3.9/site-packages/matplotlib-3.6.2.dist-info/METADATA'\u001B[0m\r\n",
      "\u001B[31mERROR: Cannot uninstall matplotlib 3.6.2, RECORD file not found. You might be able to recover from this via: 'pip install --force-reinstall --no-deps matplotlib==3.6.2'.\u001B[0m\r\n"
     ]
    }
   ],
   "source": [
    "# librería para manejar las flexiones gramaticales en el idioma inglés.\n",
    "!pip install inflect\n",
    "!pip install --disable-pip-version-check --progress-bar off -q https://github.com/pandas-profiling/pandas-profiling/archive/master.zip"
   ],
   "metadata": {
    "collapsed": false
   }
  },
  {
   "cell_type": "code",
   "execution_count": 230,
   "outputs": [],
   "source": [
    "seed = 161\n",
    "\n",
    "import pandas as pd\n",
    "import warnings; warnings.simplefilter('ignore')\n",
    "import nltk\n",
    "\n",
    "from nltk.corpus import stopwords\n",
    "\n",
    "\n",
    "from sklearn.model_selection import train_test_split\n",
    "from sklearn.feature_extraction.text import CountVectorizer, TfidfVectorizer\n",
    "\n",
    "\n",
    "from sklearn.pipeline import Pipeline\n",
    "\n",
    "from joblib import dump, load\n"
   ],
   "metadata": {
    "collapsed": false
   }
  },
  {
   "cell_type": "code",
   "execution_count": 231,
   "outputs": [
    {
     "name": "stderr",
     "output_type": "stream",
     "text": [
      "[nltk_data] Error loading punkt: <urlopen error [SSL:\n",
      "[nltk_data]     CERTIFICATE_VERIFY_FAILED] certificate verify failed:\n",
      "[nltk_data]     unable to get local issuer certificate (_ssl.c:1122)>\n",
      "[nltk_data] Error loading stopwords: <urlopen error [SSL:\n",
      "[nltk_data]     CERTIFICATE_VERIFY_FAILED] certificate verify failed:\n",
      "[nltk_data]     unable to get local issuer certificate (_ssl.c:1122)>\n",
      "[nltk_data] Error loading wordnet: <urlopen error [SSL:\n",
      "[nltk_data]     CERTIFICATE_VERIFY_FAILED] certificate verify failed:\n",
      "[nltk_data]     unable to get local issuer certificate (_ssl.c:1122)>\n"
     ]
    }
   ],
   "source": [
    "# Descargando las stopwords\n",
    "nltk.download('punkt')\n",
    "nltk.download('stopwords')\n",
    "nltk.download('wordnet')\n",
    "stop_words = set(stopwords.words('english'))"
   ],
   "metadata": {
    "collapsed": false
   }
  },
  {
   "cell_type": "code",
   "execution_count": 232,
   "outputs": [],
   "source": [
    "from sklearn.utils import resample\n",
    "\n"
   ],
   "metadata": {
    "collapsed": false
   }
  },
  {
   "cell_type": "code",
   "execution_count": 233,
   "id": "95f6aa7a-e6dc-41be-8fc6-e71997badf31",
   "metadata": {},
   "outputs": [],
   "source": [
    "# Se cargan los datos. \n",
    "\n",
    "file_name = 'reviews_train_val.csv'\n",
    "reviews_df = pd.read_csv('data/reviews_train_val.csv', sep = ',')\n",
    "\n",
    "neg_class_resampled = resample(\n",
    "    reviews_df, replace=False, n_samples=2000,\n",
    "    random_state=1234,\n",
    ")\n",
    "reviews_df = neg_class_resampled.reset_index(drop=True)"
   ]
  },
  {
   "cell_type": "code",
   "execution_count": 234,
   "outputs": [
    {
     "data": {
      "text/plain": "(2000, 2)"
     },
     "execution_count": 234,
     "metadata": {},
     "output_type": "execute_result"
    }
   ],
   "source": [
    "# Se filtran los que no tienen etiqueta\n",
    "reviews_labeled_df = reviews_df.loc[reviews_df['stars'].notnull()]\n",
    "reviews_labeled_df.shape"
   ],
   "metadata": {
    "collapsed": false
   }
  },
  {
   "cell_type": "code",
   "execution_count": 235,
   "outputs": [
    {
     "data": {
      "text/plain": "(1600,)"
     },
     "execution_count": 235,
     "metadata": {},
     "output_type": "execute_result"
    }
   ],
   "source": [
    "\n",
    "\n",
    "X_train, X_test, y_train, y_test = train_test_split(reviews_labeled_df['text'], reviews_labeled_df['stars'], test_size = 0.2, stratify = reviews_labeled_df['stars'], random_state = 1)\n",
    "\n",
    "X_train.shape"
   ],
   "metadata": {
    "collapsed": false
   }
  },
  {
   "cell_type": "code",
   "execution_count": 236,
   "outputs": [],
   "source": [
    "from Processor.TextProcessor import TextProcesser\n",
    "\n",
    "\n",
    "estimators = [\n",
    "    (\"processer\", TextProcesser()),\n",
    "    (\"vect\", CountVectorizer(max_df = 0.5, min_df = 0.001)),\n",
    "]\n",
    "processing_pipeline = Pipeline(estimators)\n"
   ],
   "metadata": {
    "collapsed": false
   }
  },
  {
   "cell_type": "code",
   "execution_count": 237,
   "outputs": [],
   "source": [
    "X_train = processing_pipeline.fit_transform(X_train).toarray()\n",
    "X_test = processing_pipeline.transform(X_test).toarray()"
   ],
   "metadata": {
    "collapsed": false
   }
  },
  {
   "cell_type": "code",
   "execution_count": 238,
   "outputs": [
    {
     "data": {
      "text/plain": "['assets/pipeline.joblib']"
     },
     "execution_count": 238,
     "metadata": {},
     "output_type": "execute_result"
    }
   ],
   "source": [
    "dump(processing_pipeline, \"assets/pipeline.joblib\")"
   ],
   "metadata": {
    "collapsed": false
   }
  },
  {
   "cell_type": "code",
   "execution_count": 239,
   "outputs": [],
   "source": [
    "from sklearn.linear_model import LogisticRegression\n",
    "\n",
    "best_model = LogisticRegression(C=50,\n",
    " multi_class = 'auto',\n",
    " penalty= 'l2',\n",
    " solver= 'newton-cg',\n",
    " )\n"
   ],
   "metadata": {
    "collapsed": false
   }
  },
  {
   "cell_type": "code",
   "execution_count": 240,
   "outputs": [
    {
     "data": {
      "text/plain": "LogisticRegression(C=50, solver='newton-cg')",
      "text/html": "<style>#sk-container-id-22 {color: black;background-color: white;}#sk-container-id-22 pre{padding: 0;}#sk-container-id-22 div.sk-toggleable {background-color: white;}#sk-container-id-22 label.sk-toggleable__label {cursor: pointer;display: block;width: 100%;margin-bottom: 0;padding: 0.3em;box-sizing: border-box;text-align: center;}#sk-container-id-22 label.sk-toggleable__label-arrow:before {content: \"▸\";float: left;margin-right: 0.25em;color: #696969;}#sk-container-id-22 label.sk-toggleable__label-arrow:hover:before {color: black;}#sk-container-id-22 div.sk-estimator:hover label.sk-toggleable__label-arrow:before {color: black;}#sk-container-id-22 div.sk-toggleable__content {max-height: 0;max-width: 0;overflow: hidden;text-align: left;background-color: #f0f8ff;}#sk-container-id-22 div.sk-toggleable__content pre {margin: 0.2em;color: black;border-radius: 0.25em;background-color: #f0f8ff;}#sk-container-id-22 input.sk-toggleable__control:checked~div.sk-toggleable__content {max-height: 200px;max-width: 100%;overflow: auto;}#sk-container-id-22 input.sk-toggleable__control:checked~label.sk-toggleable__label-arrow:before {content: \"▾\";}#sk-container-id-22 div.sk-estimator input.sk-toggleable__control:checked~label.sk-toggleable__label {background-color: #d4ebff;}#sk-container-id-22 div.sk-label input.sk-toggleable__control:checked~label.sk-toggleable__label {background-color: #d4ebff;}#sk-container-id-22 input.sk-hidden--visually {border: 0;clip: rect(1px 1px 1px 1px);clip: rect(1px, 1px, 1px, 1px);height: 1px;margin: -1px;overflow: hidden;padding: 0;position: absolute;width: 1px;}#sk-container-id-22 div.sk-estimator {font-family: monospace;background-color: #f0f8ff;border: 1px dotted black;border-radius: 0.25em;box-sizing: border-box;margin-bottom: 0.5em;}#sk-container-id-22 div.sk-estimator:hover {background-color: #d4ebff;}#sk-container-id-22 div.sk-parallel-item::after {content: \"\";width: 100%;border-bottom: 1px solid gray;flex-grow: 1;}#sk-container-id-22 div.sk-label:hover label.sk-toggleable__label {background-color: #d4ebff;}#sk-container-id-22 div.sk-serial::before {content: \"\";position: absolute;border-left: 1px solid gray;box-sizing: border-box;top: 0;bottom: 0;left: 50%;z-index: 0;}#sk-container-id-22 div.sk-serial {display: flex;flex-direction: column;align-items: center;background-color: white;padding-right: 0.2em;padding-left: 0.2em;position: relative;}#sk-container-id-22 div.sk-item {position: relative;z-index: 1;}#sk-container-id-22 div.sk-parallel {display: flex;align-items: stretch;justify-content: center;background-color: white;position: relative;}#sk-container-id-22 div.sk-item::before, #sk-container-id-22 div.sk-parallel-item::before {content: \"\";position: absolute;border-left: 1px solid gray;box-sizing: border-box;top: 0;bottom: 0;left: 50%;z-index: -1;}#sk-container-id-22 div.sk-parallel-item {display: flex;flex-direction: column;z-index: 1;position: relative;background-color: white;}#sk-container-id-22 div.sk-parallel-item:first-child::after {align-self: flex-end;width: 50%;}#sk-container-id-22 div.sk-parallel-item:last-child::after {align-self: flex-start;width: 50%;}#sk-container-id-22 div.sk-parallel-item:only-child::after {width: 0;}#sk-container-id-22 div.sk-dashed-wrapped {border: 1px dashed gray;margin: 0 0.4em 0.5em 0.4em;box-sizing: border-box;padding-bottom: 0.4em;background-color: white;}#sk-container-id-22 div.sk-label label {font-family: monospace;font-weight: bold;display: inline-block;line-height: 1.2em;}#sk-container-id-22 div.sk-label-container {text-align: center;}#sk-container-id-22 div.sk-container {/* jupyter's `normalize.less` sets `[hidden] { display: none; }` but bootstrap.min.css set `[hidden] { display: none !important; }` so we also need the `!important` here to be able to override the default hidden behavior on the sphinx rendered scikit-learn.org. See: https://github.com/scikit-learn/scikit-learn/issues/21755 */display: inline-block !important;position: relative;}#sk-container-id-22 div.sk-text-repr-fallback {display: none;}</style><div id=\"sk-container-id-22\" class=\"sk-top-container\"><div class=\"sk-text-repr-fallback\"><pre>LogisticRegression(C=50, solver=&#x27;newton-cg&#x27;)</pre><b>In a Jupyter environment, please rerun this cell to show the HTML representation or trust the notebook. <br />On GitHub, the HTML representation is unable to render, please try loading this page with nbviewer.org.</b></div><div class=\"sk-container\" hidden><div class=\"sk-item\"><div class=\"sk-estimator sk-toggleable\"><input class=\"sk-toggleable__control sk-hidden--visually\" id=\"sk-estimator-id-22\" type=\"checkbox\" checked><label for=\"sk-estimator-id-22\" class=\"sk-toggleable__label sk-toggleable__label-arrow\">LogisticRegression</label><div class=\"sk-toggleable__content\"><pre>LogisticRegression(C=50, solver=&#x27;newton-cg&#x27;)</pre></div></div></div></div></div>"
     },
     "execution_count": 240,
     "metadata": {},
     "output_type": "execute_result"
    }
   ],
   "source": [
    "best_model.fit(X_train, y_train)"
   ],
   "metadata": {
    "collapsed": false
   }
  },
  {
   "cell_type": "code",
   "execution_count": 241,
   "id": "46cb556f-a5c0-4ba3-9b1b-0e46dd08e1e1",
   "metadata": {},
   "outputs": [
    {
     "data": {
      "text/plain": "['assets/model.joblib']"
     },
     "execution_count": 241,
     "metadata": {},
     "output_type": "execute_result"
    }
   ],
   "source": [
    "\n",
    "dump(best_model, \"assets/model.joblib\")"
   ]
  },
  {
   "cell_type": "code",
   "execution_count": 242,
   "outputs": [],
   "source": [
    "preds_train = best_model.predict(X_train)\n",
    "preds_test = best_model.predict(X_test)"
   ],
   "metadata": {
    "collapsed": false
   }
  },
  {
   "cell_type": "code",
   "execution_count": 246,
   "outputs": [],
   "source": [
    "from sklearn.metrics import precision_recall_fscore_support\n",
    "\n",
    "\n",
    "def pandas_classification_report(y_true, y_pred):\n",
    "    metrics_summary = precision_recall_fscore_support(\n",
    "            y_true=y_true,\n",
    "            y_pred=y_pred)\n",
    "\n",
    "    avg = list(precision_recall_fscore_support(\n",
    "            y_true=y_true,\n",
    "            y_pred=y_pred,\n",
    "            average='weighted'))\n",
    "\n",
    "    metrics_sum_index = ['precision', 'recall', 'f1-score', 'support']\n",
    "    class_report_df = pd.DataFrame(\n",
    "        list(metrics_summary),\n",
    "        index=metrics_sum_index)\n",
    "\n",
    "    support = class_report_df.loc['support']\n",
    "    total = support.sum()\n",
    "    avg[-1] = total\n",
    "\n",
    "    class_report_df['avg'] = avg\n",
    "\n",
    "    return class_report_df.T\n",
    "\n",
    "df_class_report = pandas_classification_report(y_test, preds_test)\n",
    "\n",
    "df_class_report.to_json(\"assets/report.json\")\n"
   ],
   "metadata": {
    "collapsed": false
   }
  },
  {
   "cell_type": "code",
   "execution_count": 247,
   "outputs": [],
   "source": [
    "vocabulary = processing_pipeline.steps[1][1].vocabulary_\n",
    "\n",
    "coef = pd.DataFrame(best_model.coef_)\n",
    "coef.columns = vocabulary\n",
    "\n",
    "coef.to_json(\"assets/coefficients.json\")\n"
   ],
   "metadata": {
    "collapsed": false
   }
  },
  {
   "cell_type": "code",
   "execution_count": 245,
   "outputs": [
    {
     "data": {
      "text/plain": "        cal   appoint      show       job       nee       don      took  \\\n0  0.499477 -0.124021  0.529845  0.019718 -0.110214 -0.097935  0.085161   \n1 -0.371662 -0.260570 -0.019277 -0.165760  0.148347  0.119264 -0.082049   \n2 -0.477260 -0.000292 -0.239515 -0.052296 -0.020075 -0.064162 -0.164466   \n3  0.356953  0.194483 -0.278374 -0.157483 -0.016474 -0.033786  0.231062   \n4 -0.007509  0.190399  0.007322  0.355821 -0.001583  0.076619 -0.069708   \n\n         12      week    return  ...       zen   antique      21st      drag  \\\n0 -0.013951  0.052406 -0.021920  ... -0.005245 -0.014395 -0.138436 -0.015359   \n1 -0.083320 -0.010412  0.037685  ... -0.003948 -0.018308 -0.159143 -0.031265   \n2  0.157979 -0.000214  0.089819  ... -0.139771 -0.078315 -0.141546  0.175741   \n3 -0.047651 -0.000045 -0.056804  ...  0.291911  0.243978  0.340496 -0.182295   \n4 -0.013056 -0.041736 -0.048780  ... -0.142946 -0.132961  0.098630  0.053179   \n\n   generously   potatoe     ribey    ribeye         remak          1215  \n0   -0.021067  0.023913 -0.014337 -0.013435  4.986343e-02  4.986343e-02  \n1   -0.075083  0.141800  0.067787  0.067571 -2.044470e-02 -2.044470e-02  \n2   -0.218283 -0.046317 -0.027091 -0.027093 -5.918506e-02 -5.918506e-02  \n3    0.649105 -0.150430 -0.002463 -0.002463  2.976645e-02  2.976645e-02  \n4   -0.334672  0.031034 -0.023896 -0.024580 -1.158704e-07 -1.158704e-07  \n\n[5 rows x 5966 columns]",
      "text/html": "<div>\n<style scoped>\n    .dataframe tbody tr th:only-of-type {\n        vertical-align: middle;\n    }\n\n    .dataframe tbody tr th {\n        vertical-align: top;\n    }\n\n    .dataframe thead th {\n        text-align: right;\n    }\n</style>\n<table border=\"1\" class=\"dataframe\">\n  <thead>\n    <tr style=\"text-align: right;\">\n      <th></th>\n      <th>cal</th>\n      <th>appoint</th>\n      <th>show</th>\n      <th>job</th>\n      <th>nee</th>\n      <th>don</th>\n      <th>took</th>\n      <th>12</th>\n      <th>week</th>\n      <th>return</th>\n      <th>...</th>\n      <th>zen</th>\n      <th>antique</th>\n      <th>21st</th>\n      <th>drag</th>\n      <th>generously</th>\n      <th>potatoe</th>\n      <th>ribey</th>\n      <th>ribeye</th>\n      <th>remak</th>\n      <th>1215</th>\n    </tr>\n  </thead>\n  <tbody>\n    <tr>\n      <th>0</th>\n      <td>0.499477</td>\n      <td>-0.124021</td>\n      <td>0.529845</td>\n      <td>0.019718</td>\n      <td>-0.110214</td>\n      <td>-0.097935</td>\n      <td>0.085161</td>\n      <td>-0.013951</td>\n      <td>0.052406</td>\n      <td>-0.021920</td>\n      <td>...</td>\n      <td>-0.005245</td>\n      <td>-0.014395</td>\n      <td>-0.138436</td>\n      <td>-0.015359</td>\n      <td>-0.021067</td>\n      <td>0.023913</td>\n      <td>-0.014337</td>\n      <td>-0.013435</td>\n      <td>4.986343e-02</td>\n      <td>4.986343e-02</td>\n    </tr>\n    <tr>\n      <th>1</th>\n      <td>-0.371662</td>\n      <td>-0.260570</td>\n      <td>-0.019277</td>\n      <td>-0.165760</td>\n      <td>0.148347</td>\n      <td>0.119264</td>\n      <td>-0.082049</td>\n      <td>-0.083320</td>\n      <td>-0.010412</td>\n      <td>0.037685</td>\n      <td>...</td>\n      <td>-0.003948</td>\n      <td>-0.018308</td>\n      <td>-0.159143</td>\n      <td>-0.031265</td>\n      <td>-0.075083</td>\n      <td>0.141800</td>\n      <td>0.067787</td>\n      <td>0.067571</td>\n      <td>-2.044470e-02</td>\n      <td>-2.044470e-02</td>\n    </tr>\n    <tr>\n      <th>2</th>\n      <td>-0.477260</td>\n      <td>-0.000292</td>\n      <td>-0.239515</td>\n      <td>-0.052296</td>\n      <td>-0.020075</td>\n      <td>-0.064162</td>\n      <td>-0.164466</td>\n      <td>0.157979</td>\n      <td>-0.000214</td>\n      <td>0.089819</td>\n      <td>...</td>\n      <td>-0.139771</td>\n      <td>-0.078315</td>\n      <td>-0.141546</td>\n      <td>0.175741</td>\n      <td>-0.218283</td>\n      <td>-0.046317</td>\n      <td>-0.027091</td>\n      <td>-0.027093</td>\n      <td>-5.918506e-02</td>\n      <td>-5.918506e-02</td>\n    </tr>\n    <tr>\n      <th>3</th>\n      <td>0.356953</td>\n      <td>0.194483</td>\n      <td>-0.278374</td>\n      <td>-0.157483</td>\n      <td>-0.016474</td>\n      <td>-0.033786</td>\n      <td>0.231062</td>\n      <td>-0.047651</td>\n      <td>-0.000045</td>\n      <td>-0.056804</td>\n      <td>...</td>\n      <td>0.291911</td>\n      <td>0.243978</td>\n      <td>0.340496</td>\n      <td>-0.182295</td>\n      <td>0.649105</td>\n      <td>-0.150430</td>\n      <td>-0.002463</td>\n      <td>-0.002463</td>\n      <td>2.976645e-02</td>\n      <td>2.976645e-02</td>\n    </tr>\n    <tr>\n      <th>4</th>\n      <td>-0.007509</td>\n      <td>0.190399</td>\n      <td>0.007322</td>\n      <td>0.355821</td>\n      <td>-0.001583</td>\n      <td>0.076619</td>\n      <td>-0.069708</td>\n      <td>-0.013056</td>\n      <td>-0.041736</td>\n      <td>-0.048780</td>\n      <td>...</td>\n      <td>-0.142946</td>\n      <td>-0.132961</td>\n      <td>0.098630</td>\n      <td>0.053179</td>\n      <td>-0.334672</td>\n      <td>0.031034</td>\n      <td>-0.023896</td>\n      <td>-0.024580</td>\n      <td>-1.158704e-07</td>\n      <td>-1.158704e-07</td>\n    </tr>\n  </tbody>\n</table>\n<p>5 rows × 5966 columns</p>\n</div>"
     },
     "execution_count": 245,
     "metadata": {},
     "output_type": "execute_result"
    }
   ],
   "source": [
    "coef.head()\n"
   ],
   "metadata": {
    "collapsed": false
   }
  },
  {
   "cell_type": "code",
   "execution_count": 245,
   "outputs": [],
   "source": [],
   "metadata": {
    "collapsed": false
   }
  }
 ],
 "metadata": {
  "kernelspec": {
   "display_name": "Python 3 (ipykernel)",
   "language": "python",
   "name": "python3"
  },
  "language_info": {
   "codemirror_mode": {
    "name": "ipython",
    "version": 3
   },
   "file_extension": ".py",
   "mimetype": "text/x-python",
   "name": "python",
   "nbconvert_exporter": "python",
   "pygments_lexer": "ipython3",
   "version": "3.9.12"
  }
 },
 "nbformat": 4,
 "nbformat_minor": 5
}
